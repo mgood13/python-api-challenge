{
 "cells": [
  {
   "cell_type": "markdown",
   "metadata": {},
   "source": [
    "# VacationPy\n",
    "----\n",
    "\n",
    "#### Note\n",
    "* Keep an eye on your API usage. Use https://developers.google.com/maps/reporting/gmp-reporting as reference for how to monitor your usage and billing.\n",
    "\n",
    "* Instructions have been included for each segment. You do not have to follow them exactly, but they are included to help you think through the steps."
   ]
  },
  {
   "cell_type": "code",
   "execution_count": 1,
   "metadata": {},
   "outputs": [],
   "source": [
    "# Dependencies and Setup\n",
    "import matplotlib.pyplot as plt\n",
    "import pandas as pd\n",
    "import numpy as np\n",
    "import requests\n",
    "import gmaps\n",
    "import os\n",
    "import json\n",
    "\n",
    "# Import API key\n",
    "from config import google_api_key"
   ]
  },
  {
   "cell_type": "markdown",
   "metadata": {},
   "source": [
    "### Store Part I results into DataFrame\n",
    "* Load the csv exported in Part I to a DataFrame"
   ]
  },
  {
   "cell_type": "code",
   "execution_count": 2,
   "metadata": {},
   "outputs": [
    {
     "data": {
      "text/html": [
       "<div>\n",
       "<style scoped>\n",
       "    .dataframe tbody tr th:only-of-type {\n",
       "        vertical-align: middle;\n",
       "    }\n",
       "\n",
       "    .dataframe tbody tr th {\n",
       "        vertical-align: top;\n",
       "    }\n",
       "\n",
       "    .dataframe thead th {\n",
       "        text-align: right;\n",
       "    }\n",
       "</style>\n",
       "<table border=\"1\" class=\"dataframe\">\n",
       "  <thead>\n",
       "    <tr style=\"text-align: right;\">\n",
       "      <th></th>\n",
       "      <th>Unnamed: 0</th>\n",
       "      <th>City</th>\n",
       "      <th>Lat</th>\n",
       "      <th>Lng</th>\n",
       "      <th>Max Temp</th>\n",
       "      <th>Humidity</th>\n",
       "      <th>Cloudiness</th>\n",
       "      <th>Wind Speed</th>\n",
       "      <th>Country</th>\n",
       "      <th>Date</th>\n",
       "    </tr>\n",
       "  </thead>\n",
       "  <tbody>\n",
       "    <tr>\n",
       "      <td>0</td>\n",
       "      <td>0</td>\n",
       "      <td>verkh-usugli</td>\n",
       "      <td>52.70</td>\n",
       "      <td>115.17</td>\n",
       "      <td>29.70</td>\n",
       "      <td>82</td>\n",
       "      <td>79</td>\n",
       "      <td>6.87</td>\n",
       "      <td>RU</td>\n",
       "      <td>1604114489</td>\n",
       "    </tr>\n",
       "    <tr>\n",
       "      <td>1</td>\n",
       "      <td>1</td>\n",
       "      <td>fortuna</td>\n",
       "      <td>40.60</td>\n",
       "      <td>-124.16</td>\n",
       "      <td>51.80</td>\n",
       "      <td>93</td>\n",
       "      <td>1</td>\n",
       "      <td>4.70</td>\n",
       "      <td>US</td>\n",
       "      <td>1604114284</td>\n",
       "    </tr>\n",
       "    <tr>\n",
       "      <td>2</td>\n",
       "      <td>2</td>\n",
       "      <td>punta arenas</td>\n",
       "      <td>-53.15</td>\n",
       "      <td>-70.92</td>\n",
       "      <td>48.20</td>\n",
       "      <td>76</td>\n",
       "      <td>75</td>\n",
       "      <td>6.93</td>\n",
       "      <td>CL</td>\n",
       "      <td>1604114352</td>\n",
       "    </tr>\n",
       "    <tr>\n",
       "      <td>3</td>\n",
       "      <td>3</td>\n",
       "      <td>mataura</td>\n",
       "      <td>-46.19</td>\n",
       "      <td>168.86</td>\n",
       "      <td>53.01</td>\n",
       "      <td>89</td>\n",
       "      <td>100</td>\n",
       "      <td>13.00</td>\n",
       "      <td>NZ</td>\n",
       "      <td>1604114489</td>\n",
       "    </tr>\n",
       "    <tr>\n",
       "      <td>4</td>\n",
       "      <td>4</td>\n",
       "      <td>ahipara</td>\n",
       "      <td>-35.17</td>\n",
       "      <td>173.17</td>\n",
       "      <td>66.67</td>\n",
       "      <td>88</td>\n",
       "      <td>46</td>\n",
       "      <td>14.16</td>\n",
       "      <td>NZ</td>\n",
       "      <td>1604114489</td>\n",
       "    </tr>\n",
       "  </tbody>\n",
       "</table>\n",
       "</div>"
      ],
      "text/plain": [
       "   Unnamed: 0          City    Lat     Lng  Max Temp  Humidity  Cloudiness  \\\n",
       "0           0  verkh-usugli  52.70  115.17     29.70        82          79   \n",
       "1           1       fortuna  40.60 -124.16     51.80        93           1   \n",
       "2           2  punta arenas -53.15  -70.92     48.20        76          75   \n",
       "3           3       mataura -46.19  168.86     53.01        89         100   \n",
       "4           4       ahipara -35.17  173.17     66.67        88          46   \n",
       "\n",
       "   Wind Speed Country        Date  \n",
       "0        6.87      RU  1604114489  \n",
       "1        4.70      US  1604114284  \n",
       "2        6.93      CL  1604114352  \n",
       "3       13.00      NZ  1604114489  \n",
       "4       14.16      NZ  1604114489  "
      ]
     },
     "execution_count": 2,
     "metadata": {},
     "output_type": "execute_result"
    }
   ],
   "source": [
    "# Read the csv generated in WeatherPy\n",
    "weather_df = pd.read_csv('../WeatherPy/weather_check.csv')\n",
    "weather_df.head()\n"
   ]
  },
  {
   "cell_type": "markdown",
   "metadata": {},
   "source": [
    "### Humidity Heatmap\n",
    "* Configure gmaps.\n",
    "* Use the Lat and Lng as locations and Humidity as the weight.\n",
    "* Add Heatmap layer to map."
   ]
  },
  {
   "cell_type": "code",
   "execution_count": 3,
   "metadata": {},
   "outputs": [],
   "source": [
    "# Configure out gmaps figure with our api key\n",
    "gmaps.configure(api_key=google_api_key)"
   ]
  },
  {
   "cell_type": "code",
   "execution_count": 4,
   "metadata": {},
   "outputs": [
    {
     "data": {
      "application/vnd.jupyter.widget-view+json": {
       "model_id": "fdb590208bc244e5b2f318a58692271a",
       "version_major": 2,
       "version_minor": 0
      },
      "text/plain": [
       "Figure(layout=FigureLayout(height='420px'))"
      ]
     },
     "metadata": {},
     "output_type": "display_data"
    }
   ],
   "source": [
    "# Get the columns Lat and Lng for our location values\n",
    "locations = weather_df[['Lat','Lng']].astype(float)\n",
    "# Get humidty for our weight on the heatmap\n",
    "humidity = weather_df['Humidity'].astype(float)\n",
    "\n",
    "# Create the figure, create the heatmap layer\n",
    "# Adjust the max intensity to be the humidity list\n",
    "fig = gmaps.figure()\n",
    "heat_layer = gmaps.heatmap_layer(locations, weights = humidity, max_intensity = max(humidity), point_radius = 3, dissipating = False)\n",
    "fig.add_layer(heat_layer)\n",
    "fig"
   ]
  },
  {
   "cell_type": "markdown",
   "metadata": {},
   "source": [
    "### Create new DataFrame fitting weather criteria\n",
    "* Narrow down the cities to fit weather conditions.\n",
    "* Drop any rows will null values."
   ]
  },
  {
   "cell_type": "code",
   "execution_count": 5,
   "metadata": {},
   "outputs": [
    {
     "data": {
      "text/plain": [
       "(7, 10)"
      ]
     },
     "execution_count": 5,
     "metadata": {},
     "output_type": "execute_result"
    }
   ],
   "source": [
    "# Set the parameters for ideal weather (we're rather picky)\n",
    "idealtemp = [65,75]\n",
    "idealhumidity = 50\n",
    "idealwind = 7\n",
    "idealclouds = 50\n",
    "# Remove the temperatures that are too hot or too cold\n",
    "ideal_weather_df = weather_df.loc[(weather_df['Max Temp']<idealtemp[1]) & (weather_df['Max Temp']>idealtemp[0]),:]\n",
    "\n",
    "# Remove the places with too high of humidity (sorry southeast US)\n",
    "ideal_weather_df = ideal_weather_df.loc[(ideal_weather_df['Humidity'] <= idealhumidity),:]\n",
    "\n",
    "# Remove winds that are too high\n",
    "ideal_weather_df = ideal_weather_df.loc[(ideal_weather_df['Wind Speed'] <= idealwind),:]\n",
    "\n",
    "# Remove places that are too cloudy\n",
    "ideal_weather_df = ideal_weather_df.loc[(ideal_weather_df['Cloudiness'] <= idealclouds),:]\n",
    "\n",
    "#Check how many places we still have left after the culling\n",
    "#Turns out >10 means losing points so must be as strict as possible.\n",
    "ideal_weather_df.shape"
   ]
  },
  {
   "cell_type": "markdown",
   "metadata": {},
   "source": [
    "### Hotel Map\n",
    "* Store into variable named `hotel_df`.\n",
    "* Add a \"Hotel Name\" column to the DataFrame.\n",
    "* Set parameters to search for hotels with 5000 meters.\n",
    "* Hit the Google Places API for each city's coordinates.\n",
    "* Store the first Hotel result into the DataFrame.\n",
    "* Plot markers on top of the heatmap."
   ]
  },
  {
   "cell_type": "code",
   "execution_count": 6,
   "metadata": {},
   "outputs": [
    {
     "name": "stdout",
     "output_type": "stream",
     "text": [
      "Unfortunately, the city tiznithas no hotels within 5000m\n",
      "Unfortunately, the city bantouhas no hotels within 5000m\n"
     ]
    }
   ],
   "source": [
    "# Rename our dataframe and then create an empty list to hold hotels\n",
    "hotel_df = ideal_weather_df\n",
    "hotel_name = []\n",
    "\n",
    "# Loop through the rows of the hotel dataframe and search for hotels within 5000m\n",
    "for index,row in hotel_df.iterrows():\n",
    "    \n",
    "    params = {\n",
    "        \"location\": \"{0},{1}\".format(row['Lat'],row['Lng']),\n",
    "        \"keyword\": \"hotel\",\n",
    "        \"radius\": 5000,\n",
    "        \"type\": \"lodging\",\n",
    "        \"key\": google_api_key\n",
    "    }\n",
    "    base_url = 'https://maps.googleapis.com/maps/api/place/nearbysearch/json'\n",
    "    response = requests.get(base_url, params = params).json()\n",
    "    \n",
    "    # Try to put the hotel name into our list\n",
    "    try:\n",
    "        hotel_name.append(response['results'][0]['name'])\n",
    "    # If we can't find a hotel let the user know which city is lacking and put a blank in the hotel field\n",
    "    except IndexError:\n",
    "        print('Unfortunately, the city ' + str(row['City']) + 'has no hotels within 5000m')\n",
    "        hotel_name.append('')\n",
    "hotel_df['Hotel Name'] = hotel_name"
   ]
  },
  {
   "cell_type": "code",
   "execution_count": 7,
   "metadata": {},
   "outputs": [
    {
     "data": {
      "text/plain": [
       "['The Woodbridge',\n",
       " 'Hotel Viva Villa',\n",
       " '',\n",
       " 'Alwatane',\n",
       " 'Sterling Mount Abu',\n",
       " 'Salalah Gardens Hotel',\n",
       " '']"
      ]
     },
     "execution_count": 7,
     "metadata": {},
     "output_type": "execute_result"
    }
   ],
   "source": [
    "# Print the hotel list to see which ones we found and how may blanks we have\n",
    "# Likely our blanks are from our multiple levels of abstraction. We have random positions on the globe and the nearest city.\n",
    "# Then we searched for hotels within 5000m of the random locations which may itself be >5000m from the nearest town.\n",
    "hotel_name"
   ]
  },
  {
   "cell_type": "code",
   "execution_count": 8,
   "metadata": {},
   "outputs": [],
   "source": [
    "# NOTE: Do not change any of the code in this cell\n",
    "\n",
    "# Using the template add the hotel marks to the heatmap\n",
    "info_box_template = \"\"\"\n",
    "<dl>\n",
    "<dt>Name</dt><dd>{Hotel Name}</dd>\n",
    "<dt>City</dt><dd>{City}</dd>\n",
    "<dt>Country</dt><dd>{Country}</dd>\n",
    "</dl>\n",
    "\"\"\"\n",
    "# Store the DataFrame Row\n",
    "# NOTE: be sure to update with your DataFrame name\n",
    "hotel_info = [info_box_template.format(**row) for index, row in hotel_df.iterrows()]\n",
    "locations = hotel_df[[\"Lat\", \"Lng\"]]"
   ]
  },
  {
   "cell_type": "code",
   "execution_count": 9,
   "metadata": {
    "scrolled": true
   },
   "outputs": [
    {
     "data": {
      "application/vnd.jupyter.widget-view+json": {
       "model_id": "fdb590208bc244e5b2f318a58692271a",
       "version_major": 2,
       "version_minor": 0
      },
      "text/plain": [
       "Figure(layout=FigureLayout(height='420px'))"
      ]
     },
     "metadata": {},
     "output_type": "display_data"
    }
   ],
   "source": [
    "# Add marker layer ontop of heat map\n",
    "markers = gmaps.marker_layer(locations,\n",
    "    info_box_content=hotel_info)\n",
    "fig.add_layer(markers)\n",
    "\n",
    "# Display figure\n",
    "fig"
   ]
  },
  {
   "cell_type": "code",
   "execution_count": null,
   "metadata": {},
   "outputs": [],
   "source": []
  }
 ],
 "metadata": {
  "kernelspec": {
   "display_name": "Python 3",
   "language": "python",
   "name": "python3"
  },
  "language_info": {
   "codemirror_mode": {
    "name": "ipython",
    "version": 3
   },
   "file_extension": ".py",
   "mimetype": "text/x-python",
   "name": "python",
   "nbconvert_exporter": "python",
   "pygments_lexer": "ipython3",
   "version": "3.7.4"
  },
  "latex_envs": {
   "LaTeX_envs_menu_present": true,
   "autoclose": false,
   "autocomplete": true,
   "bibliofile": "biblio.bib",
   "cite_by": "apalike",
   "current_citInitial": 1,
   "eqLabelWithNumbers": true,
   "eqNumInitial": 1,
   "hotkeys": {
    "equation": "Ctrl-E",
    "itemize": "Ctrl-I"
   },
   "labels_anchors": false,
   "latex_user_defs": false,
   "report_style_numbering": false,
   "user_envs_cfg": false
  }
 },
 "nbformat": 4,
 "nbformat_minor": 4
}
