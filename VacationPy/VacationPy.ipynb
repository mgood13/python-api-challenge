{
 "cells": [
  {
   "cell_type": "markdown",
   "metadata": {},
   "source": [
    "# VacationPy\n",
    "----\n",
    "\n",
    "#### Note\n",
    "* Keep an eye on your API usage. Use https://developers.google.com/maps/reporting/gmp-reporting as reference for how to monitor your usage and billing.\n",
    "\n",
    "* Instructions have been included for each segment. You do not have to follow them exactly, but they are included to help you think through the steps."
   ]
  },
  {
   "cell_type": "code",
   "execution_count": 28,
   "metadata": {},
   "outputs": [],
   "source": [
    "# Dependencies and Setup\n",
    "import matplotlib.pyplot as plt\n",
    "import pandas as pd\n",
    "import numpy as np\n",
    "import requests\n",
    "import gmaps\n",
    "import os\n",
    "import json\n",
    "\n",
    "# Import API key\n",
    "from config import google_api_key"
   ]
  },
  {
   "cell_type": "markdown",
   "metadata": {},
   "source": [
    "### Store Part I results into DataFrame\n",
    "* Load the csv exported in Part I to a DataFrame"
   ]
  },
  {
   "cell_type": "code",
   "execution_count": 2,
   "metadata": {},
   "outputs": [
    {
     "data": {
      "text/html": [
       "<div>\n",
       "<style scoped>\n",
       "    .dataframe tbody tr th:only-of-type {\n",
       "        vertical-align: middle;\n",
       "    }\n",
       "\n",
       "    .dataframe tbody tr th {\n",
       "        vertical-align: top;\n",
       "    }\n",
       "\n",
       "    .dataframe thead th {\n",
       "        text-align: right;\n",
       "    }\n",
       "</style>\n",
       "<table border=\"1\" class=\"dataframe\">\n",
       "  <thead>\n",
       "    <tr style=\"text-align: right;\">\n",
       "      <th></th>\n",
       "      <th>Unnamed: 0</th>\n",
       "      <th>City</th>\n",
       "      <th>Lat</th>\n",
       "      <th>Lng</th>\n",
       "      <th>Max Temp</th>\n",
       "      <th>Humidity</th>\n",
       "      <th>Cloudiness</th>\n",
       "      <th>Wind Speed</th>\n",
       "      <th>Country</th>\n",
       "      <th>Date</th>\n",
       "    </tr>\n",
       "  </thead>\n",
       "  <tbody>\n",
       "    <tr>\n",
       "      <th>0</th>\n",
       "      <td>0</td>\n",
       "      <td>harper</td>\n",
       "      <td>4.38</td>\n",
       "      <td>-7.72</td>\n",
       "      <td>77.72</td>\n",
       "      <td>88</td>\n",
       "      <td>99</td>\n",
       "      <td>5.28</td>\n",
       "      <td>LR</td>\n",
       "      <td>1603942061</td>\n",
       "    </tr>\n",
       "    <tr>\n",
       "      <th>1</th>\n",
       "      <td>1</td>\n",
       "      <td>barrow</td>\n",
       "      <td>71.29</td>\n",
       "      <td>-156.79</td>\n",
       "      <td>23.00</td>\n",
       "      <td>79</td>\n",
       "      <td>90</td>\n",
       "      <td>6.93</td>\n",
       "      <td>US</td>\n",
       "      <td>1603941974</td>\n",
       "    </tr>\n",
       "    <tr>\n",
       "      <th>2</th>\n",
       "      <td>2</td>\n",
       "      <td>east london</td>\n",
       "      <td>-33.02</td>\n",
       "      <td>27.91</td>\n",
       "      <td>68.27</td>\n",
       "      <td>84</td>\n",
       "      <td>96</td>\n",
       "      <td>6.31</td>\n",
       "      <td>ZA</td>\n",
       "      <td>1603941861</td>\n",
       "    </tr>\n",
       "    <tr>\n",
       "      <th>3</th>\n",
       "      <td>3</td>\n",
       "      <td>maniitsoq</td>\n",
       "      <td>65.42</td>\n",
       "      <td>-52.90</td>\n",
       "      <td>21.94</td>\n",
       "      <td>83</td>\n",
       "      <td>78</td>\n",
       "      <td>3.13</td>\n",
       "      <td>GL</td>\n",
       "      <td>1603942061</td>\n",
       "    </tr>\n",
       "    <tr>\n",
       "      <th>4</th>\n",
       "      <td>4</td>\n",
       "      <td>velikiy ustyug</td>\n",
       "      <td>60.76</td>\n",
       "      <td>46.31</td>\n",
       "      <td>42.01</td>\n",
       "      <td>93</td>\n",
       "      <td>100</td>\n",
       "      <td>6.44</td>\n",
       "      <td>RU</td>\n",
       "      <td>1603942061</td>\n",
       "    </tr>\n",
       "  </tbody>\n",
       "</table>\n",
       "</div>"
      ],
      "text/plain": [
       "   Unnamed: 0            City    Lat     Lng  Max Temp  Humidity  Cloudiness  \\\n",
       "0           0          harper   4.38   -7.72     77.72        88          99   \n",
       "1           1          barrow  71.29 -156.79     23.00        79          90   \n",
       "2           2     east london -33.02   27.91     68.27        84          96   \n",
       "3           3       maniitsoq  65.42  -52.90     21.94        83          78   \n",
       "4           4  velikiy ustyug  60.76   46.31     42.01        93         100   \n",
       "\n",
       "   Wind Speed Country        Date  \n",
       "0        5.28      LR  1603942061  \n",
       "1        6.93      US  1603941974  \n",
       "2        6.31      ZA  1603941861  \n",
       "3        3.13      GL  1603942061  \n",
       "4        6.44      RU  1603942061  "
      ]
     },
     "execution_count": 2,
     "metadata": {},
     "output_type": "execute_result"
    }
   ],
   "source": [
    "weather_df = pd.read_csv('../WeatherPy/weather_check.csv')\n",
    "weather_df.head()\n"
   ]
  },
  {
   "cell_type": "markdown",
   "metadata": {},
   "source": [
    "### Humidity Heatmap\n",
    "* Configure gmaps.\n",
    "* Use the Lat and Lng as locations and Humidity as the weight.\n",
    "* Add Heatmap layer to map."
   ]
  },
  {
   "cell_type": "code",
   "execution_count": 3,
   "metadata": {},
   "outputs": [],
   "source": [
    "gmaps.configure(api_key=google_api_key)"
   ]
  },
  {
   "cell_type": "code",
   "execution_count": 9,
   "metadata": {},
   "outputs": [
    {
     "data": {
      "application/vnd.jupyter.widget-view+json": {
       "model_id": "260d7cc902124aec9698d84b40289a6e",
       "version_major": 2,
       "version_minor": 0
      },
      "text/plain": [
       "Figure(layout=FigureLayout(height='420px'))"
      ]
     },
     "metadata": {},
     "output_type": "display_data"
    }
   ],
   "source": [
    "# Get the columns Lat and Lng for our location values\n",
    "locations = weather_df[['Lat','Lng']].astype(float)\n",
    "# Get humidty for our weight on the heatmap\n",
    "humidity = weather_df['Humidity'].astype(float)\n",
    "\n",
    "# Create the figure, create the heatmap layer\n",
    "# Adjust the max intensity to be the humidity list\n",
    "fig = gmaps.figure()\n",
    "heat_layer = gmaps.heatmap_layer(locations, weights = humidity, max_intensity = max(humidity), point_radius = 3, dissipating = False)\n",
    "fig.add_layer(heat_layer)\n",
    "fig"
   ]
  },
  {
   "cell_type": "markdown",
   "metadata": {},
   "source": [
    "### Create new DataFrame fitting weather criteria\n",
    "* Narrow down the cities to fit weather conditions.\n",
    "* Drop any rows will null values."
   ]
  },
  {
   "cell_type": "code",
   "execution_count": 24,
   "metadata": {},
   "outputs": [
    {
     "data": {
      "text/plain": [
       "(17, 10)"
      ]
     },
     "execution_count": 24,
     "metadata": {},
     "output_type": "execute_result"
    }
   ],
   "source": [
    "# Set the parameters for ideal weather (we're rather picky)\n",
    "idealtemp = [65,75]\n",
    "idealhumidity = 70\n",
    "idealwind = 7\n",
    "idealclouds = 75\n",
    "# Remove the temperatures that are too hot or too cold\n",
    "ideal_weather_df = weather_df.loc[(weather_df['Max Temp']<idealtemp[1]) & (weather_df['Max Temp']>idealtemp[0]),:]\n",
    "\n",
    "# Remove the places with too high of humidity (sorry Brazil)\n",
    "ideal_weather_df = ideal_weather_df.loc[(ideal_weather_df['Humidity'] <= idealhumidity),:]\n",
    "\n",
    "# Remove winds that are too high\n",
    "ideal_weather_df = ideal_weather_df.loc[(ideal_weather_df['Wind Speed'] <= idealwind),:]\n",
    "\n",
    "# Remove places that are too cloudy\n",
    "ideal_weather_df = ideal_weather_df.loc[(ideal_weather_df['Cloudiness'] <= idealclouds),:]\n",
    "\n",
    "#Check how many places we still have left after the culling\n",
    "ideal_weather_df.shape"
   ]
  },
  {
   "cell_type": "markdown",
   "metadata": {},
   "source": [
    "### Hotel Map\n",
    "* Store into variable named `hotel_df`.\n",
    "* Add a \"Hotel Name\" column to the DataFrame.\n",
    "* Set parameters to search for hotels with 5000 meters.\n",
    "* Hit the Google Places API for each city's coordinates.\n",
    "* Store the first Hotel result into the DataFrame.\n",
    "* Plot markers on top of the heatmap."
   ]
  },
  {
   "cell_type": "code",
   "execution_count": 44,
   "metadata": {},
   "outputs": [
    {
     "name": "stdout",
     "output_type": "stream",
     "text": [
      "Unfortunately, the city kalashas no hotels within 5000m\n",
      "Unfortunately, the city mount darwinhas no hotels within 5000m\n",
      "Unfortunately, the city ganzhouhas no hotels within 5000m\n",
      "Unfortunately, the city miram shahhas no hotels within 5000m\n"
     ]
    }
   ],
   "source": [
    "hotel_df = ideal_weather_df\n",
    "hotel_name = []\n",
    "\n",
    "# Loop through the rows of the hotel dataframe and search for hotels within 5000m\n",
    "for index,row in hotel_df.iterrows():\n",
    "    \n",
    "    params = {\n",
    "        \"location\": \"{0},{1}\".format(row['Lat'],row['Lng']),\n",
    "        \"keyword\": \"hotel\",\n",
    "        \"radius\": 5000,\n",
    "        \"type\": \"lodging\",\n",
    "        \"key\": google_api_key\n",
    "    }\n",
    "    base_url = 'https://maps.googleapis.com/maps/api/place/nearbysearch/json'\n",
    "    response = requests.get(base_url, params = params).json()\n",
    "    \n",
    "    # Try to put the hotel name into our list\n",
    "    try:\n",
    "        hotel_name.append(response['results'][0]['name'])\n",
    "    # If we can't find a hotel let the user know which city is lacking\n",
    "    except IndexError:\n",
    "        print('Unfortunately, the city ' + str(row['City']) + 'has no hotels within 5000m')\n",
    "        hotel_name.append('')\n",
    "hotel_df['Hotel Name'] = hotel_name"
   ]
  },
  {
   "cell_type": "code",
   "execution_count": 43,
   "metadata": {},
   "outputs": [
    {
     "data": {
      "text/plain": [
       "['別邸 海と森',\n",
       " 'Pullman Zamzam Makkah',\n",
       " 'Lakefront Lodge Te Anau',\n",
       " 'DB Star Hotel',\n",
       " 'Waldorf Astoria Los Cabos Pedregal',\n",
       " 'Hotel Alegria Gardens Amakusa',\n",
       " '',\n",
       " 'Casa de la Aduana Hotel Boutique',\n",
       " '',\n",
       " 'Luke Hotels',\n",
       " '',\n",
       " 'HOSPEDAJE XIMENA',\n",
       " \"Casa Turquesa Maison d'hôtes\",\n",
       " 'Nazuna 飫肥 城下町温泉 -小鹿倉邸-',\n",
       " 'Kashuwa Lodge',\n",
       " '',\n",
       " 'Sur Plaza Hotel']"
      ]
     },
     "execution_count": 43,
     "metadata": {},
     "output_type": "execute_result"
    }
   ],
   "source": [
    "hotel_name"
   ]
  },
  {
   "cell_type": "code",
   "execution_count": null,
   "metadata": {},
   "outputs": [],
   "source": [
    "# NOTE: Do not change any of the code in this cell\n",
    "\n",
    "# Using the template add the hotel marks to the heatmap\n",
    "info_box_template = \"\"\"\n",
    "<dl>\n",
    "<dt>Name</dt><dd>{Hotel Name}</dd>\n",
    "<dt>City</dt><dd>{City}</dd>\n",
    "<dt>Country</dt><dd>{Country}</dd>\n",
    "</dl>\n",
    "\"\"\"\n",
    "# Store the DataFrame Row\n",
    "# NOTE: be sure to update with your DataFrame name\n",
    "hotel_info = [info_box_template.format(**row) for index, row in hotel_df.iterrows()]\n",
    "locations = hotel_df[[\"Lat\", \"Lng\"]]"
   ]
  },
  {
   "cell_type": "code",
   "execution_count": null,
   "metadata": {},
   "outputs": [],
   "source": [
    "# Add marker layer ontop of heat map\n",
    "\n",
    "\n",
    "# Display figure\n"
   ]
  },
  {
   "cell_type": "code",
   "execution_count": null,
   "metadata": {},
   "outputs": [],
   "source": []
  }
 ],
 "metadata": {
  "kernelspec": {
   "display_name": "Python 3",
   "language": "python",
   "name": "python3"
  },
  "language_info": {
   "codemirror_mode": {
    "name": "ipython",
    "version": 3
   },
   "file_extension": ".py",
   "mimetype": "text/x-python",
   "name": "python",
   "nbconvert_exporter": "python",
   "pygments_lexer": "ipython3",
   "version": "3.6.10"
  },
  "latex_envs": {
   "LaTeX_envs_menu_present": true,
   "autoclose": false,
   "autocomplete": true,
   "bibliofile": "biblio.bib",
   "cite_by": "apalike",
   "current_citInitial": 1,
   "eqLabelWithNumbers": true,
   "eqNumInitial": 1,
   "hotkeys": {
    "equation": "Ctrl-E",
    "itemize": "Ctrl-I"
   },
   "labels_anchors": false,
   "latex_user_defs": false,
   "report_style_numbering": false,
   "user_envs_cfg": false
  }
 },
 "nbformat": 4,
 "nbformat_minor": 4
}
